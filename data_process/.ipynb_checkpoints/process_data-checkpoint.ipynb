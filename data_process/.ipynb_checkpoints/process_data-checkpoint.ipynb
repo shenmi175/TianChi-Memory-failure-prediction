{
 "cells": [
  {
   "cell_type": "code",
   "execution_count": 1,
   "id": "3a1970e4-580e-48e7-9c54-2f8e1ddb8630",
   "metadata": {},
   "outputs": [],
   "source": [
    "import pandas as pd\n",
    "import os"
   ]
  },
  {
   "cell_type": "code",
   "execution_count": 2,
   "id": "6d34e059-430e-43a5-afe9-87b7231782d1",
   "metadata": {},
   "outputs": [],
   "source": [
    "kernel_log_data_path = 'memory_sample_kernel_log_round1_a_train.csv'# 内核日志路径\n",
    "failure_tag_data_path = 'memory_sample_failure_tag_round1_a_train.csv'# 故障标签表路径\n",
    "PARENT_FOLDER = '../data' # 数据的相对路径目录"
   ]
  },
  {
   "cell_type": "code",
   "execution_count": null,
   "id": "2fc23e66-9dd6-4343-8d55-bef66a98ca5f",
   "metadata": {},
   "outputs": [],
   "source": [
    "# 计算每个agg_time区间的和\n",
    "def etl(path, agg_time):\n",
    "    data = pd.read_csv(os.path.join(PARENT_FOLDER, path))\n",
    "    # 降低时间精度 向上取整\n",
    "    data['collect_time'] = pd.to_datetime(data['collect_time']).dt.ceil(agg_time)\n",
    "    group_data = data.groupby(['serial_number', 'collect_time'], as_index=False).agg('sum')\n",
    "    return group_data"
   ]
  },
  {
   "cell_type": "code",
   "execution_count": null,
   "id": "b80b37e8-cf66-4463-afa2-6a47e0bdfd08",
   "metadata": {},
   "outputs": [],
   "source": [
    "# 设置聚合时间粒度\n",
    "AGG_VALUE = 2\n",
    "AGG_UNIT = 'min'\n",
    "AGG_TIME = str(AGG_VALUE) + AGG_UNIT\n",
    "\n",
    "# 示例仅使用了kernel数据\n",
    "group_min = etl(kernel_log_data_path, AGG_TIME)\n",
    "failure_tag = pd.read_csv(os.path.join(PARENT_FOLDER, failure_tag_data_path))\n",
    "failure_tag['failure_time'] = pd.to_datetime(failure_tag['failure_time'])"
   ]
  },
  {
   "cell_type": "code",
   "execution_count": null,
   "id": "9eda6cae-30c1-46d7-b9a6-1acc3809e3fa",
   "metadata": {},
   "outputs": [],
   "source": [
    "# 为数据打标\n",
    "merged_data = pd.merge(group_min, failure_tag[['serial_number', 'failure_time']], how='left', on=['serial_number'])\n",
    "merged_data['failure_tag'] = (merged_data['failure_time'].notnull()) & ((merged_data['failure_time']\n",
    "                                                                         - merged_data['collect_time']).dt.seconds <= AGG_VALUE * 60)\n",
    "merged_data['failure_tag'] = merged_data['failure_tag'] + 0\n",
    "feature_data = merged_data.drop(['serial_number', 'collect_time', 'manufacturer', 'vendor', 'failure_time'], axis=1)"
   ]
  },
  {
   "cell_type": "code",
   "execution_count": null,
   "id": "a70624fb-d2ee-4ad3-80e3-9000d6042526",
   "metadata": {},
   "outputs": [],
   "source": [
    "# 负样本下采样\n",
    "# 采样比例减少一点，尽量多出一些预测，降低精度，提高召回率\n",
    "sample_0 = feature_data[feature_data['failure_tag'] == 0].sample(frac=0.005)\n",
    "sample = sample_0._append(feature_data[feature_data['failure_tag'] == 1])"
   ]
  },
  {
   "cell_type": "code",
   "execution_count": null,
   "id": "79f22508-c7f4-4395-87af-a7055f246dd7",
   "metadata": {},
   "outputs": [],
   "source": []
  }
 ],
 "metadata": {
  "kernelspec": {
   "display_name": "Python 3 (ipykernel)",
   "language": "python",
   "name": "python3"
  },
  "language_info": {
   "codemirror_mode": {
    "name": "ipython",
    "version": 3
   },
   "file_extension": ".py",
   "mimetype": "text/x-python",
   "name": "python",
   "nbconvert_exporter": "python",
   "pygments_lexer": "ipython3",
   "version": "3.11.7"
  }
 },
 "nbformat": 4,
 "nbformat_minor": 5
}
