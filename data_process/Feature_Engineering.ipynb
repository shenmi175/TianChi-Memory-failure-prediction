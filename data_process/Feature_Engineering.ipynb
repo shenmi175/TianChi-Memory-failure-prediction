{
 "cells": [
  {
   "cell_type": "code",
   "execution_count": 1,
   "id": "5d0aa957-72c7-48a2-9126-227cb9b4a8d1",
   "metadata": {},
   "outputs": [],
   "source": [
    "import pandas as pd\n",
    "from statsmodels.tsa.ar_model import AutoReg\n",
    "import numpy as np\n",
    "import time\n",
    "\n",
    "from statsmodels.tsa.stattools import acf, pacf"
   ]
  },
  {
   "cell_type": "code",
   "execution_count": 2,
   "id": "386cea2f-ba74-4ebc-a023-54b74968105b",
   "metadata": {},
   "outputs": [
    {
     "name": "stderr",
     "output_type": "stream",
     "text": [
      "C:\\Users\\99299\\AppData\\Local\\Temp\\ipykernel_10740\\1773772477.py:1: DtypeWarning: Columns (28) have mixed types. Specify dtype option on import or set low_memory=False.\n",
      "  data = pd.read_csv('../../new_data/merged_dataset.csv')\n"
     ]
    },
    {
     "name": "stdout",
     "output_type": "stream",
     "text": [
      "<class 'pandas.core.frame.DataFrame'>\n",
      "RangeIndex: 735957 entries, 0 to 735956\n",
      "Data columns (total 30 columns):\n",
      " #   Column          Non-Null Count   Dtype  \n",
      "---  ------          --------------   -----  \n",
      " 0   serial_number   735957 non-null  object \n",
      " 1   collect_time    735957 non-null  object \n",
      " 2   1_hwerr_f       735957 non-null  float64\n",
      " 3   1_hwerr_e       735957 non-null  float64\n",
      " 4   2_hwerr_c       735957 non-null  float64\n",
      " 5   2_sel           735957 non-null  float64\n",
      " 6   3_hwerr_n       735957 non-null  float64\n",
      " 7   2_hwerr_s       735957 non-null  float64\n",
      " 8   3_hwerr_m       735957 non-null  float64\n",
      " 9   1_hwerr_st      735957 non-null  float64\n",
      " 10  1_hw_mem_c      735957 non-null  float64\n",
      " 11  3_hwerr_p       735957 non-null  float64\n",
      " 12  2_hwerr_ce      735957 non-null  float64\n",
      " 13  3_hwerr_as      735957 non-null  float64\n",
      " 14  1_ke            735957 non-null  float64\n",
      " 15  2_hwerr_p       735957 non-null  float64\n",
      " 16  3_hwerr_kp      735957 non-null  float64\n",
      " 17  1_hwerr_fl      735957 non-null  float64\n",
      " 18  3_hwerr_r       735957 non-null  float64\n",
      " 19  _hwerr_cd       735957 non-null  float64\n",
      " 20  3_sup_mce_note  735957 non-null  float64\n",
      " 21  3_cmci_sub      735957 non-null  float64\n",
      " 22  3_cmci_det      735957 non-null  float64\n",
      " 23  3_hwerr_pi      735957 non-null  float64\n",
      " 24  3_hwerr_o       735957 non-null  float64\n",
      " 25  3_hwerr_mce_l   735957 non-null  float64\n",
      " 26  manufacturer    735957 non-null  int64  \n",
      " 27  vendor          735957 non-null  float64\n",
      " 28  failure_time    22205 non-null   object \n",
      " 29  failure_tag     735957 non-null  int64  \n",
      "dtypes: float64(25), int64(2), object(3)\n",
      "memory usage: 168.4+ MB\n"
     ]
    }
   ],
   "source": [
    "data = pd.read_csv('../../new_data/merged_dataset.csv')\n",
    "data.info()"
   ]
  },
  {
   "cell_type": "code",
   "execution_count": 3,
   "id": "d1f5ad00-c380-42a4-b989-62a02f0afc3e",
   "metadata": {},
   "outputs": [],
   "source": [
    "data['collect_time'] = pd.to_datetime(data['collect_time'])"
   ]
  },
  {
   "cell_type": "code",
   "execution_count": 4,
   "id": "78747af8-d5a9-4900-921f-69d4c48fc1fb",
   "metadata": {},
   "outputs": [],
   "source": [
    "data = data.drop('failure_time',axis=1)"
   ]
  },
  {
   "cell_type": "code",
   "execution_count": 5,
   "id": "b57f655f-2209-4c94-81d4-9fa6f60f96bb",
   "metadata": {},
   "outputs": [],
   "source": [
    "# 确保数据按照serial_number和collect_time排序\n",
    "data.sort_values(['serial_number', 'collect_time'], inplace=True)"
   ]
  },
  {
   "cell_type": "markdown",
   "id": "61dd3b3b-aec1-40c0-bfe6-20b749b25f29",
   "metadata": {},
   "source": [
    "## 时间滑动窗口统计"
   ]
  },
  {
   "cell_type": "code",
   "execution_count": 6,
   "id": "5104d129-266b-4cd2-8cc2-04b85db2792e",
   "metadata": {},
   "outputs": [],
   "source": [
    "# 创建一个空字典来存储构建的特征\n",
    "features_dict = {}\n",
    "\n",
    "# 滑动窗口的大小（以小时为单位）\n",
    "window_sizes = [1, 6, 24]  # 窗口大小：1小时，6小时，24小时\n",
    "\n",
    "# 需要计算特征的列（从第2列到第25列）\n",
    "feature_columns = data.columns[2:26]"
   ]
  },
  {
   "cell_type": "code",
   "execution_count": 7,
   "id": "58ed5686-b710-442c-b683-312a04d5d7b4",
   "metadata": {},
   "outputs": [],
   "source": [
    "# 计算每个窗口大小的滑动窗口统计\n",
    "for window in window_sizes:\n",
    "    window_str = f\"{window}H\"\n",
    "    for column in feature_columns:\n",
    "        df_rolled = data.groupby('serial_number').rolling(window=window_str, on='collect_time')\n",
    "        features_dict[f'sum_{column}_{window}h'] = df_rolled[column].sum().reset_index(level=0, drop=True)\n",
    "        features_dict[f'mean_{column}_{window}h'] = df_rolled[column].mean().reset_index(level=0, drop=True)\n",
    "        features_dict[f'std_{column}_{window}h'] = df_rolled[column].std().reset_index(level=0, drop=True)\n",
    "        features_dict[f'min_{column}_{window}h'] = df_rolled[column].min().reset_index(level=0, drop=True)\n",
    "        features_dict[f'max_{column}_{window}h'] = df_rolled[column].max().reset_index(level=0, drop=True)"
   ]
  },
  {
   "cell_type": "code",
   "execution_count": 8,
   "id": "a84a00bc-4761-429b-b962-12408bf9fa20",
   "metadata": {},
   "outputs": [
    {
     "data": {
      "text/plain": [
       "(360,\n",
       " dict_keys(['sum_1_hwerr_f_1h', 'mean_1_hwerr_f_1h', 'std_1_hwerr_f_1h', 'min_1_hwerr_f_1h', 'max_1_hwerr_f_1h', 'sum_1_hwerr_e_1h', 'mean_1_hwerr_e_1h', 'std_1_hwerr_e_1h', 'min_1_hwerr_e_1h', 'max_1_hwerr_e_1h', 'sum_2_hwerr_c_1h', 'mean_2_hwerr_c_1h', 'std_2_hwerr_c_1h', 'min_2_hwerr_c_1h', 'max_2_hwerr_c_1h', 'sum_2_sel_1h', 'mean_2_sel_1h', 'std_2_sel_1h', 'min_2_sel_1h', 'max_2_sel_1h', 'sum_3_hwerr_n_1h', 'mean_3_hwerr_n_1h', 'std_3_hwerr_n_1h', 'min_3_hwerr_n_1h', 'max_3_hwerr_n_1h', 'sum_2_hwerr_s_1h', 'mean_2_hwerr_s_1h', 'std_2_hwerr_s_1h', 'min_2_hwerr_s_1h', 'max_2_hwerr_s_1h', 'sum_3_hwerr_m_1h', 'mean_3_hwerr_m_1h', 'std_3_hwerr_m_1h', 'min_3_hwerr_m_1h', 'max_3_hwerr_m_1h', 'sum_1_hwerr_st_1h', 'mean_1_hwerr_st_1h', 'std_1_hwerr_st_1h', 'min_1_hwerr_st_1h', 'max_1_hwerr_st_1h', 'sum_1_hw_mem_c_1h', 'mean_1_hw_mem_c_1h', 'std_1_hw_mem_c_1h', 'min_1_hw_mem_c_1h', 'max_1_hw_mem_c_1h', 'sum_3_hwerr_p_1h', 'mean_3_hwerr_p_1h', 'std_3_hwerr_p_1h', 'min_3_hwerr_p_1h', 'max_3_hwerr_p_1h', 'sum_2_hwerr_ce_1h', 'mean_2_hwerr_ce_1h', 'std_2_hwerr_ce_1h', 'min_2_hwerr_ce_1h', 'max_2_hwerr_ce_1h', 'sum_3_hwerr_as_1h', 'mean_3_hwerr_as_1h', 'std_3_hwerr_as_1h', 'min_3_hwerr_as_1h', 'max_3_hwerr_as_1h', 'sum_1_ke_1h', 'mean_1_ke_1h', 'std_1_ke_1h', 'min_1_ke_1h', 'max_1_ke_1h', 'sum_2_hwerr_p_1h', 'mean_2_hwerr_p_1h', 'std_2_hwerr_p_1h', 'min_2_hwerr_p_1h', 'max_2_hwerr_p_1h', 'sum_3_hwerr_kp_1h', 'mean_3_hwerr_kp_1h', 'std_3_hwerr_kp_1h', 'min_3_hwerr_kp_1h', 'max_3_hwerr_kp_1h', 'sum_1_hwerr_fl_1h', 'mean_1_hwerr_fl_1h', 'std_1_hwerr_fl_1h', 'min_1_hwerr_fl_1h', 'max_1_hwerr_fl_1h', 'sum_3_hwerr_r_1h', 'mean_3_hwerr_r_1h', 'std_3_hwerr_r_1h', 'min_3_hwerr_r_1h', 'max_3_hwerr_r_1h', 'sum__hwerr_cd_1h', 'mean__hwerr_cd_1h', 'std__hwerr_cd_1h', 'min__hwerr_cd_1h', 'max__hwerr_cd_1h', 'sum_3_sup_mce_note_1h', 'mean_3_sup_mce_note_1h', 'std_3_sup_mce_note_1h', 'min_3_sup_mce_note_1h', 'max_3_sup_mce_note_1h', 'sum_3_cmci_sub_1h', 'mean_3_cmci_sub_1h', 'std_3_cmci_sub_1h', 'min_3_cmci_sub_1h', 'max_3_cmci_sub_1h', 'sum_3_cmci_det_1h', 'mean_3_cmci_det_1h', 'std_3_cmci_det_1h', 'min_3_cmci_det_1h', 'max_3_cmci_det_1h', 'sum_3_hwerr_pi_1h', 'mean_3_hwerr_pi_1h', 'std_3_hwerr_pi_1h', 'min_3_hwerr_pi_1h', 'max_3_hwerr_pi_1h', 'sum_3_hwerr_o_1h', 'mean_3_hwerr_o_1h', 'std_3_hwerr_o_1h', 'min_3_hwerr_o_1h', 'max_3_hwerr_o_1h', 'sum_3_hwerr_mce_l_1h', 'mean_3_hwerr_mce_l_1h', 'std_3_hwerr_mce_l_1h', 'min_3_hwerr_mce_l_1h', 'max_3_hwerr_mce_l_1h', 'sum_1_hwerr_f_6h', 'mean_1_hwerr_f_6h', 'std_1_hwerr_f_6h', 'min_1_hwerr_f_6h', 'max_1_hwerr_f_6h', 'sum_1_hwerr_e_6h', 'mean_1_hwerr_e_6h', 'std_1_hwerr_e_6h', 'min_1_hwerr_e_6h', 'max_1_hwerr_e_6h', 'sum_2_hwerr_c_6h', 'mean_2_hwerr_c_6h', 'std_2_hwerr_c_6h', 'min_2_hwerr_c_6h', 'max_2_hwerr_c_6h', 'sum_2_sel_6h', 'mean_2_sel_6h', 'std_2_sel_6h', 'min_2_sel_6h', 'max_2_sel_6h', 'sum_3_hwerr_n_6h', 'mean_3_hwerr_n_6h', 'std_3_hwerr_n_6h', 'min_3_hwerr_n_6h', 'max_3_hwerr_n_6h', 'sum_2_hwerr_s_6h', 'mean_2_hwerr_s_6h', 'std_2_hwerr_s_6h', 'min_2_hwerr_s_6h', 'max_2_hwerr_s_6h', 'sum_3_hwerr_m_6h', 'mean_3_hwerr_m_6h', 'std_3_hwerr_m_6h', 'min_3_hwerr_m_6h', 'max_3_hwerr_m_6h', 'sum_1_hwerr_st_6h', 'mean_1_hwerr_st_6h', 'std_1_hwerr_st_6h', 'min_1_hwerr_st_6h', 'max_1_hwerr_st_6h', 'sum_1_hw_mem_c_6h', 'mean_1_hw_mem_c_6h', 'std_1_hw_mem_c_6h', 'min_1_hw_mem_c_6h', 'max_1_hw_mem_c_6h', 'sum_3_hwerr_p_6h', 'mean_3_hwerr_p_6h', 'std_3_hwerr_p_6h', 'min_3_hwerr_p_6h', 'max_3_hwerr_p_6h', 'sum_2_hwerr_ce_6h', 'mean_2_hwerr_ce_6h', 'std_2_hwerr_ce_6h', 'min_2_hwerr_ce_6h', 'max_2_hwerr_ce_6h', 'sum_3_hwerr_as_6h', 'mean_3_hwerr_as_6h', 'std_3_hwerr_as_6h', 'min_3_hwerr_as_6h', 'max_3_hwerr_as_6h', 'sum_1_ke_6h', 'mean_1_ke_6h', 'std_1_ke_6h', 'min_1_ke_6h', 'max_1_ke_6h', 'sum_2_hwerr_p_6h', 'mean_2_hwerr_p_6h', 'std_2_hwerr_p_6h', 'min_2_hwerr_p_6h', 'max_2_hwerr_p_6h', 'sum_3_hwerr_kp_6h', 'mean_3_hwerr_kp_6h', 'std_3_hwerr_kp_6h', 'min_3_hwerr_kp_6h', 'max_3_hwerr_kp_6h', 'sum_1_hwerr_fl_6h', 'mean_1_hwerr_fl_6h', 'std_1_hwerr_fl_6h', 'min_1_hwerr_fl_6h', 'max_1_hwerr_fl_6h', 'sum_3_hwerr_r_6h', 'mean_3_hwerr_r_6h', 'std_3_hwerr_r_6h', 'min_3_hwerr_r_6h', 'max_3_hwerr_r_6h', 'sum__hwerr_cd_6h', 'mean__hwerr_cd_6h', 'std__hwerr_cd_6h', 'min__hwerr_cd_6h', 'max__hwerr_cd_6h', 'sum_3_sup_mce_note_6h', 'mean_3_sup_mce_note_6h', 'std_3_sup_mce_note_6h', 'min_3_sup_mce_note_6h', 'max_3_sup_mce_note_6h', 'sum_3_cmci_sub_6h', 'mean_3_cmci_sub_6h', 'std_3_cmci_sub_6h', 'min_3_cmci_sub_6h', 'max_3_cmci_sub_6h', 'sum_3_cmci_det_6h', 'mean_3_cmci_det_6h', 'std_3_cmci_det_6h', 'min_3_cmci_det_6h', 'max_3_cmci_det_6h', 'sum_3_hwerr_pi_6h', 'mean_3_hwerr_pi_6h', 'std_3_hwerr_pi_6h', 'min_3_hwerr_pi_6h', 'max_3_hwerr_pi_6h', 'sum_3_hwerr_o_6h', 'mean_3_hwerr_o_6h', 'std_3_hwerr_o_6h', 'min_3_hwerr_o_6h', 'max_3_hwerr_o_6h', 'sum_3_hwerr_mce_l_6h', 'mean_3_hwerr_mce_l_6h', 'std_3_hwerr_mce_l_6h', 'min_3_hwerr_mce_l_6h', 'max_3_hwerr_mce_l_6h', 'sum_1_hwerr_f_24h', 'mean_1_hwerr_f_24h', 'std_1_hwerr_f_24h', 'min_1_hwerr_f_24h', 'max_1_hwerr_f_24h', 'sum_1_hwerr_e_24h', 'mean_1_hwerr_e_24h', 'std_1_hwerr_e_24h', 'min_1_hwerr_e_24h', 'max_1_hwerr_e_24h', 'sum_2_hwerr_c_24h', 'mean_2_hwerr_c_24h', 'std_2_hwerr_c_24h', 'min_2_hwerr_c_24h', 'max_2_hwerr_c_24h', 'sum_2_sel_24h', 'mean_2_sel_24h', 'std_2_sel_24h', 'min_2_sel_24h', 'max_2_sel_24h', 'sum_3_hwerr_n_24h', 'mean_3_hwerr_n_24h', 'std_3_hwerr_n_24h', 'min_3_hwerr_n_24h', 'max_3_hwerr_n_24h', 'sum_2_hwerr_s_24h', 'mean_2_hwerr_s_24h', 'std_2_hwerr_s_24h', 'min_2_hwerr_s_24h', 'max_2_hwerr_s_24h', 'sum_3_hwerr_m_24h', 'mean_3_hwerr_m_24h', 'std_3_hwerr_m_24h', 'min_3_hwerr_m_24h', 'max_3_hwerr_m_24h', 'sum_1_hwerr_st_24h', 'mean_1_hwerr_st_24h', 'std_1_hwerr_st_24h', 'min_1_hwerr_st_24h', 'max_1_hwerr_st_24h', 'sum_1_hw_mem_c_24h', 'mean_1_hw_mem_c_24h', 'std_1_hw_mem_c_24h', 'min_1_hw_mem_c_24h', 'max_1_hw_mem_c_24h', 'sum_3_hwerr_p_24h', 'mean_3_hwerr_p_24h', 'std_3_hwerr_p_24h', 'min_3_hwerr_p_24h', 'max_3_hwerr_p_24h', 'sum_2_hwerr_ce_24h', 'mean_2_hwerr_ce_24h', 'std_2_hwerr_ce_24h', 'min_2_hwerr_ce_24h', 'max_2_hwerr_ce_24h', 'sum_3_hwerr_as_24h', 'mean_3_hwerr_as_24h', 'std_3_hwerr_as_24h', 'min_3_hwerr_as_24h', 'max_3_hwerr_as_24h', 'sum_1_ke_24h', 'mean_1_ke_24h', 'std_1_ke_24h', 'min_1_ke_24h', 'max_1_ke_24h', 'sum_2_hwerr_p_24h', 'mean_2_hwerr_p_24h', 'std_2_hwerr_p_24h', 'min_2_hwerr_p_24h', 'max_2_hwerr_p_24h', 'sum_3_hwerr_kp_24h', 'mean_3_hwerr_kp_24h', 'std_3_hwerr_kp_24h', 'min_3_hwerr_kp_24h', 'max_3_hwerr_kp_24h', 'sum_1_hwerr_fl_24h', 'mean_1_hwerr_fl_24h', 'std_1_hwerr_fl_24h', 'min_1_hwerr_fl_24h', 'max_1_hwerr_fl_24h', 'sum_3_hwerr_r_24h', 'mean_3_hwerr_r_24h', 'std_3_hwerr_r_24h', 'min_3_hwerr_r_24h', 'max_3_hwerr_r_24h', 'sum__hwerr_cd_24h', 'mean__hwerr_cd_24h', 'std__hwerr_cd_24h', 'min__hwerr_cd_24h', 'max__hwerr_cd_24h', 'sum_3_sup_mce_note_24h', 'mean_3_sup_mce_note_24h', 'std_3_sup_mce_note_24h', 'min_3_sup_mce_note_24h', 'max_3_sup_mce_note_24h', 'sum_3_cmci_sub_24h', 'mean_3_cmci_sub_24h', 'std_3_cmci_sub_24h', 'min_3_cmci_sub_24h', 'max_3_cmci_sub_24h', 'sum_3_cmci_det_24h', 'mean_3_cmci_det_24h', 'std_3_cmci_det_24h', 'min_3_cmci_det_24h', 'max_3_cmci_det_24h', 'sum_3_hwerr_pi_24h', 'mean_3_hwerr_pi_24h', 'std_3_hwerr_pi_24h', 'min_3_hwerr_pi_24h', 'max_3_hwerr_pi_24h', 'sum_3_hwerr_o_24h', 'mean_3_hwerr_o_24h', 'std_3_hwerr_o_24h', 'min_3_hwerr_o_24h', 'max_3_hwerr_o_24h', 'sum_3_hwerr_mce_l_24h', 'mean_3_hwerr_mce_l_24h', 'std_3_hwerr_mce_l_24h', 'min_3_hwerr_mce_l_24h', 'max_3_hwerr_mce_l_24h']))"
      ]
     },
     "execution_count": 8,
     "metadata": {},
     "output_type": "execute_result"
    }
   ],
   "source": [
    "len(features_dict.keys()),features_dict.keys()"
   ]
  },
  {
   "cell_type": "markdown",
   "id": "a8e7ab75-0ac2-47c5-b341-25ffa8511e81",
   "metadata": {},
   "source": [
    "## 周期性特征"
   ]
  },
  {
   "cell_type": "code",
   "execution_count": 9,
   "id": "79668df2-1da2-47e0-a90d-c9a1ebaac498",
   "metadata": {},
   "outputs": [],
   "source": [
    "# 提取时间点特征\n",
    "data['minute'] = data['collect_time'].dt.minute\n",
    "data['hour'] = data['collect_time'].dt.hour\n",
    "data['day'] = data['collect_time'].dt.day\n",
    "\n",
    "# 将提取的特征添加到特征字典中\n",
    "features_dict['minute'] = data['minute']\n",
    "features_dict['hour'] = data['hour']\n",
    "features_dict['day'] = data['day']"
   ]
  },
  {
   "cell_type": "code",
   "execution_count": 10,
   "id": "27cc61ef-ecc6-48c6-a9b5-af385c81fdea",
   "metadata": {},
   "outputs": [
    {
     "data": {
      "text/plain": [
       "363"
      ]
     },
     "execution_count": 10,
     "metadata": {},
     "output_type": "execute_result"
    }
   ],
   "source": [
    "len(features_dict.keys())"
   ]
  },
  {
   "cell_type": "markdown",
   "id": "ec05c731-dabd-494c-88c0-daf0904b3370",
   "metadata": {},
   "source": [
    "## 滞后特征"
   ]
  },
  {
   "cell_type": "code",
   "execution_count": 11,
   "id": "d56190cc-3670-4b11-8408-6e576a735d36",
   "metadata": {},
   "outputs": [
    {
     "name": "stdout",
     "output_type": "stream",
     "text": [
      "count    723433.000000\n",
      "mean         12.689148\n",
      "std          92.194417\n",
      "min           0.033333\n",
      "25%           0.033333\n",
      "50%           0.033333\n",
      "75%           0.333333\n",
      "max        3492.466667\n",
      "Name: time_diff, dtype: float64\n"
     ]
    }
   ],
   "source": [
    "# 检查每个设备的时间间隔\n",
    "data['time_diff'] = data.groupby('serial_number')['collect_time'].diff().dt.total_seconds() / 3600  # 时间差转换为小时\n",
    "\n",
    "# 查看时间差异的统计数据\n",
    "print(data['time_diff'].describe())"
   ]
  },
  {
   "cell_type": "code",
   "execution_count": null,
   "id": "3a739869-c0da-455a-bbfa-36b828d6029c",
   "metadata": {},
   "outputs": [],
   "source": [
    "# 滞后时间窗口\n",
    "lags = [1, 6, 12, 24]\n",
    "\n",
    "# 遍历每个滞后窗口\n",
    "for lag in lags:\n",
    "    window_str = f\"{lag}H\"\n",
    "    # 创建滚动窗口对象\n",
    "    df_rolled = data.groupby('serial_number').rolling(window=window_str, on='collect_time')\n",
    "    \n",
    "    # 遍历需要计算的特征列\n",
    "    for column in feature_columns:\n",
    "        # 对每个特征列进行滚动窗口内的求和操作，并保存到字典中\n",
    "        feature_name = f'lag_sum_{column}_{lag}h'  # 创建特征名\n",
    "        features_dict[feature_name] = df_rolled[column].sum().reset_index(level=0, drop=True)\n",
    "\n",
    "\n",
    "len(features_dict.keys())"
   ]
  },
  {
   "cell_type": "code",
   "execution_count": null,
   "id": "4268efe1-814e-43b3-ae76-fe9556301fdc",
   "metadata": {},
   "outputs": [],
   "source": [
    "# 滞后时间窗口列表，以分钟为单位\n",
    "minute_lags = [1, 5, 15, 30]\n",
    "\n",
    "# 遍历每个滞后窗口\n",
    "for lag in minute_lags:\n",
    "    window_str = f\"{lag}min\"\n",
    "    # 创建滚动窗口对象\n",
    "    df_rolled = data.groupby('serial_number').rolling(window=window_str, on='collect_time')\n",
    "    \n",
    "    # 遍历需要计算的特征列\n",
    "    for column in feature_columns:\n",
    "        # 对每个特征列进行滚动窗口内的求和操作，并保存到字典中\n",
    "        feature_name = f'lag_sum_{column}_{lag}min'  # 创建特征名\n",
    "        features_dict[feature_name] = df_rolled[column].sum().reset_index(level=0, drop=True)\n",
    "\n",
    "\n",
    "len(features_dict.keys())"
   ]
  },
  {
   "cell_type": "markdown",
   "id": "f0672719-d5e4-4edb-8484-0336cc395075",
   "metadata": {},
   "source": [
    "## 变化率特征"
   ]
  },
  {
   "cell_type": "code",
   "execution_count": null,
   "id": "f98f0a56-ea5b-4af9-9caf-9ddcd790eb79",
   "metadata": {},
   "outputs": [],
   "source": [
    "# 对feature_columns中的每个特征进行一阶差分\n",
    "for column in feature_columns:\n",
    "    features_dict[f'diff_{column}'] = data[column].diff().fillna(0)"
   ]
  },
  {
   "cell_type": "code",
   "execution_count": null,
   "id": "b96578c4-e811-49e2-b839-fd01e4e9714f",
   "metadata": {},
   "outputs": [],
   "source": [
    "# 定义变化率的时间窗口（以分钟为单位）\n",
    "change_periods = [2,5,15,30,60]  # 30分钟、60分钟、2小时\n",
    "\n",
    "# 将collect_time转换为datetime类型，并确保数据是按时间排序的\n",
    "data['collect_time'] = pd.to_datetime(data['collect_time'])\n",
    "data.sort_values(['serial_number', 'collect_time'], inplace=True)\n",
    "\n",
    "# 遍历每个时间窗口和每个特征列来计算变化率\n",
    "for period in change_periods:\n",
    "    window_str = f\"{period}min\"\n",
    "    df_rolled = data.groupby('serial_number').rolling(window=window_str, on='collect_time')\n",
    "\n",
    "    for column in feature_columns:\n",
    "        # 计算窗口结束时点和开始时点的值差，除以窗口开始时点的值，得到变化率\n",
    "        rate_change = (df_rolled[column].apply(lambda x: x.iloc[-1] - x.iloc[0]) / df_rolled[column].apply(lambda x: x.iloc[0] if x.iloc[0] != 0 else 1)).reset_index(level=0, drop=True)\n",
    "        features_dict[f'rate_change_{column}_{window_str}'] = rate_change\n",
    "\n",
    "\n",
    "\n",
    "len(features_dict.keys())"
   ]
  },
  {
   "cell_type": "markdown",
   "id": "e361e986-9fcf-4d91-bbde-cdff229fada6",
   "metadata": {},
   "source": [
    "## 窗口聚合特征"
   ]
  },
  {
   "cell_type": "code",
   "execution_count": null,
   "id": "844ed118-9bb5-4107-8d64-b5f599c76787",
   "metadata": {},
   "outputs": [],
   "source": []
  },
  {
   "cell_type": "code",
   "execution_count": null,
   "id": "a92e53fd-7a9d-4566-8089-50548a941c82",
   "metadata": {},
   "outputs": [],
   "source": []
  },
  {
   "cell_type": "code",
   "execution_count": null,
   "id": "8cb441c5-ceb7-4eca-91e0-d835187df861",
   "metadata": {},
   "outputs": [],
   "source": [
    "len(features_dict.keys())"
   ]
  },
  {
   "cell_type": "code",
   "execution_count": null,
   "id": "f8d7757e-ef41-4f09-b7d5-134307594121",
   "metadata": {},
   "outputs": [],
   "source": [
    "features_dict.key()"
   ]
  },
  {
   "cell_type": "markdown",
   "id": "255cf2e4-d6d4-46b5-b590-ea24e6489302",
   "metadata": {},
   "source": [
    "## 保存数据"
   ]
  },
  {
   "cell_type": "code",
   "execution_count": null,
   "id": "5c894756-577c-4019-9ebe-60d402c89048",
   "metadata": {},
   "outputs": [],
   "source": [
    "features_df = pd.DataFrame(features_dict)\n",
    "data = pd.merge(data, features_df, left_index=True, right_index=True)\n",
    "data.to_csv('../../new_data/features.csv', index=False)"
   ]
  }
 ],
 "metadata": {
  "kernelspec": {
   "display_name": "Python 3 (ipykernel)",
   "language": "python",
   "name": "python3"
  },
  "language_info": {
   "codemirror_mode": {
    "name": "ipython",
    "version": 3
   },
   "file_extension": ".py",
   "mimetype": "text/x-python",
   "name": "python",
   "nbconvert_exporter": "python",
   "pygments_lexer": "ipython3",
   "version": "3.11.7"
  }
 },
 "nbformat": 4,
 "nbformat_minor": 5
}
